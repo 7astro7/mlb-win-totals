{
 "cells": [
  {
   "cell_type": "code",
   "execution_count": 2,
   "metadata": {},
   "outputs": [],
   "source": [
    "import os\n",
    "import pandas as pd\n",
    "import matplotlib.pyplot as plt\n",
    "import numpy as np\n",
    "# Click Dots below for CSV Imports"
   ]
  },
  {
   "cell_type": "code",
   "execution_count": 9,
   "metadata": {
    "jupyter": {
     "source_hidden": true
    }
   },
   "outputs": [],
   "source": [
    "# Import All of the CSVs\n",
    "\n",
    "read_csv_16 = \"Resources/2016_team_data.csv\"\n",
    "\n",
    "raw_data_16 = pd.read_csv(read_csv_16)\n",
    "\n",
    "read_csv_17 = \"Resources/2017_team_data.csv\"\n",
    "\n",
    "raw_data_17 = pd.read_csv(read_csv_17)\n",
    "\n",
    "read_csv_18 = \"Resources/2018_team_data.csv\"\n",
    "\n",
    "raw_data_18 = pd.read_csv(read_csv_18)\n",
    "\n",
    "read_csv_19 = \"Resources/2019_team_data.csv\"\n",
    "\n",
    "raw_data_19 = pd.read_csv(read_csv_19)\n",
    "\n",
    "read_csv_20 = \"Resources/2020_team_data.csv\"\n",
    "\n",
    "raw_data_20 = pd.read_csv(read_csv_20)\n",
    "\n",
    "# I do not understand why there are NaaN values. \n",
    "# Still figuring out this whole database building thing. \n",
    "\n",
    "db_16 = raw_data_16.dropna()\n",
    "\n",
    "db_17 = raw_data_17.dropna()\n",
    "\n",
    "db_18 = raw_data_18.dropna()\n",
    "\n",
    "db_19 = raw_data_19.dropna()\n",
    "\n",
    "db_20 = raw_data_20.dropna()\n"
   ]
  },
  {
   "cell_type": "code",
   "execution_count": 6,
   "metadata": {},
   "outputs": [],
   "source": [
    "# We Only Need Runs Scored & Runs Allowed\n",
    "# Recall that 2020 was a shortened season -- I went ahead and created an \"Assumed Variable\" \n",
    "# based upon the average runs scored per game vs. 162 games. \n",
    "# I understand that this is a significant limitation to this dataset. \n",
    "# Suggestions on how to more accurately forecast this statistic are welcome."
   ]
  },
  {
   "cell_type": "code",
   "execution_count": 23,
   "metadata": {},
   "outputs": [
    {
     "data": {
      "text/plain": [
       "Index(['Tm', '#Bat', 'BatAge', 'R/G', 'G', 'PA', 'AB', 'R', 'H', '2B', '3B',\n",
       "       'HR', 'RBI', 'SB', 'CS', 'BB', 'SO', 'BA', 'OBP', 'SLG', 'OPS', 'OPS+',\n",
       "       'TB', 'GDP', 'HBP', 'SH', 'SF', 'IBB', 'LOB', '#P', 'PAge', 'RA/G', 'W',\n",
       "       'L', 'W-L%', 'ERA', 'G.1', 'GS', 'GF', 'CG', 'tSho', 'cSho', 'SV', 'IP',\n",
       "       'H.1', 'R.1', 'ER', 'HR.1', 'BB.1', 'IBB.1', 'SO.1', 'HBP.1', 'BK',\n",
       "       'WP', 'BF', 'ERA+', 'FIP', 'WHIP', 'H9', 'HR9', 'BB9', 'SO9', 'SO/W',\n",
       "       'LOB.1'],\n",
       "      dtype='object')"
      ]
     },
     "execution_count": 23,
     "metadata": {},
     "output_type": "execute_result"
    }
   ],
   "source": [
    "# Creating New DB \n",
    "\n",
    "db_19.columns"
   ]
  },
  {
   "cell_type": "code",
   "execution_count": 25,
   "metadata": {},
   "outputs": [],
   "source": [
    "rs_20 = db_20['Adj. Runs']\n",
    "ra_20 = db_20['Adj. Runs.1']\n",
    "teams = db_20['Tm']\n",
    "\n",
    "rs_19 = db_19['R']\n",
    "ra_19 = db_19['R.1']\n",
    "\n",
    "rs_18 = db_18['R']\n",
    "ra_18 = db_18['R.1']\n",
    "\n",
    "rs_17 = db_17['R']\n",
    "ra_17 = db_17['R.1']\n",
    "\n",
    "rs_16 = db_16['R']\n",
    "ra_16 = db_16['R.1']"
   ]
  },
  {
   "cell_type": "code",
   "execution_count": 31,
   "metadata": {},
   "outputs": [
    {
     "data": {
      "text/html": [
       "<div>\n",
       "<style scoped>\n",
       "    .dataframe tbody tr th:only-of-type {\n",
       "        vertical-align: middle;\n",
       "    }\n",
       "\n",
       "    .dataframe tbody tr th {\n",
       "        vertical-align: top;\n",
       "    }\n",
       "\n",
       "    .dataframe thead th {\n",
       "        text-align: right;\n",
       "    }\n",
       "</style>\n",
       "<table border=\"1\" class=\"dataframe\">\n",
       "  <thead>\n",
       "    <tr style=\"text-align: right;\">\n",
       "      <th></th>\n",
       "      <th>Teams</th>\n",
       "      <th>Runs Scored '20</th>\n",
       "      <th>Runs Allowed '20</th>\n",
       "      <th>Runs Scored '19</th>\n",
       "      <th>Runs Allowed '19</th>\n",
       "      <th>Runs Scored '18</th>\n",
       "      <th>Runs Allowed '18</th>\n",
       "      <th>Runs Scored '17</th>\n",
       "      <th>Runs Allowed '17</th>\n",
       "      <th>Runs Allowed '16</th>\n",
       "      <th>Runs Scored '16</th>\n",
       "    </tr>\n",
       "  </thead>\n",
       "  <tbody>\n",
       "    <tr>\n",
       "      <th>0</th>\n",
       "      <td>ARI</td>\n",
       "      <td>725.76</td>\n",
       "      <td>797.04</td>\n",
       "      <td>813.0</td>\n",
       "      <td>743.0</td>\n",
       "      <td>693.0</td>\n",
       "      <td>644.0</td>\n",
       "      <td>812.0</td>\n",
       "      <td>659.0</td>\n",
       "      <td>890.0</td>\n",
       "      <td>752.0</td>\n",
       "    </tr>\n",
       "    <tr>\n",
       "      <th>1</th>\n",
       "      <td>ATL</td>\n",
       "      <td>939.60</td>\n",
       "      <td>777.60</td>\n",
       "      <td>855.0</td>\n",
       "      <td>743.0</td>\n",
       "      <td>759.0</td>\n",
       "      <td>657.0</td>\n",
       "      <td>732.0</td>\n",
       "      <td>821.0</td>\n",
       "      <td>779.0</td>\n",
       "      <td>649.0</td>\n",
       "    </tr>\n",
       "    <tr>\n",
       "      <th>2</th>\n",
       "      <td>BAL</td>\n",
       "      <td>740.34</td>\n",
       "      <td>793.80</td>\n",
       "      <td>729.0</td>\n",
       "      <td>981.0</td>\n",
       "      <td>622.0</td>\n",
       "      <td>892.0</td>\n",
       "      <td>743.0</td>\n",
       "      <td>841.0</td>\n",
       "      <td>715.0</td>\n",
       "      <td>744.0</td>\n",
       "    </tr>\n",
       "    <tr>\n",
       "      <th>3</th>\n",
       "      <td>BOS</td>\n",
       "      <td>788.94</td>\n",
       "      <td>947.70</td>\n",
       "      <td>901.0</td>\n",
       "      <td>828.0</td>\n",
       "      <td>876.0</td>\n",
       "      <td>647.0</td>\n",
       "      <td>785.0</td>\n",
       "      <td>668.0</td>\n",
       "      <td>694.0</td>\n",
       "      <td>878.0</td>\n",
       "    </tr>\n",
       "    <tr>\n",
       "      <th>4</th>\n",
       "      <td>CHC</td>\n",
       "      <td>716.04</td>\n",
       "      <td>648.00</td>\n",
       "      <td>814.0</td>\n",
       "      <td>717.0</td>\n",
       "      <td>761.0</td>\n",
       "      <td>645.0</td>\n",
       "      <td>822.0</td>\n",
       "      <td>695.0</td>\n",
       "      <td>556.0</td>\n",
       "      <td>808.0</td>\n",
       "    </tr>\n",
       "  </tbody>\n",
       "</table>\n",
       "</div>"
      ],
      "text/plain": [
       "  Teams  Runs Scored '20  Runs Allowed '20  Runs Scored '19  Runs Allowed '19  \\\n",
       "0   ARI           725.76            797.04            813.0             743.0   \n",
       "1   ATL           939.60            777.60            855.0             743.0   \n",
       "2   BAL           740.34            793.80            729.0             981.0   \n",
       "3   BOS           788.94            947.70            901.0             828.0   \n",
       "4   CHC           716.04            648.00            814.0             717.0   \n",
       "\n",
       "   Runs Scored '18  Runs Allowed '18  Runs Scored '17  Runs Allowed '17  \\\n",
       "0            693.0             644.0            812.0             659.0   \n",
       "1            759.0             657.0            732.0             821.0   \n",
       "2            622.0             892.0            743.0             841.0   \n",
       "3            876.0             647.0            785.0             668.0   \n",
       "4            761.0             645.0            822.0             695.0   \n",
       "\n",
       "   Runs Allowed '16  Runs Scored '16  \n",
       "0             890.0            752.0  \n",
       "1             779.0            649.0  \n",
       "2             715.0            744.0  \n",
       "3             694.0            878.0  \n",
       "4             556.0            808.0  "
      ]
     },
     "execution_count": 31,
     "metadata": {},
     "output_type": "execute_result"
    }
   ],
   "source": [
    "df = pd.DataFrame({\n",
    "    \n",
    "    \"Teams\": teams,\n",
    "    \"Runs Scored '20\": rs_20,\n",
    "    \"Runs Allowed '20\": ra_20,\n",
    "    \"Runs Scored '19\": rs_19,\n",
    "    \"Runs Allowed '19\": ra_19,\n",
    "    \"Runs Scored '18\": rs_18,\n",
    "    \"Runs Allowed '18\": ra_18,\n",
    "    \"Runs Scored '17\": rs_17,\n",
    "    \"Runs Allowed '17\": ra_17,\n",
    "    \"Runs Allowed '16\": ra_16,\n",
    "    \"Runs Scored '16\": rs_16\n",
    "    \n",
    "})\n",
    "\n",
    "df.head()"
   ]
  },
  {
   "cell_type": "code",
   "execution_count": 64,
   "metadata": {},
   "outputs": [
    {
     "data": {
      "text/plain": [
       "<matplotlib.axes._subplots.AxesSubplot at 0x7f824db7e7f0>"
      ]
     },
     "execution_count": 64,
     "metadata": {},
     "output_type": "execute_result"
    },
    {
     "data": {
      "image/png": "[encoded data removed]",
      "text/plain": [
       "<Figure size 432x288 with 1 Axes>"
      ]
     },
     "metadata": {
      "needs_background": "light"
     },
     "output_type": "display_data"
    }
   ],
   "source": [
    "# Calculations\n",
    "\n",
    "# Bill James' Pythag Win % is derived from (Runs Scored ^ 2 / [ Runs Scored^2 * Runs Allowed^2])\n",
    "\n",
    "\n",
    "\n"
   ]
  },
  {
   "cell_type": "code",
   "execution_count": null,
   "metadata": {},
   "outputs": [],
   "source": []
  }
 ],
 "metadata": {
  "kernelspec": {
   "display_name": "Python 3",
   "language": "python",
   "name": "python3"
  },
  "language_info": {
   "codemirror_mode": {
    "name": "ipython",
    "version": 3
   },
   "file_extension": ".py",
   "mimetype": "text/x-python",
   "name": "python",
   "nbconvert_exporter": "python",
   "pygments_lexer": "ipython3",
   "version": "3.8.3"
  }
 },
 "nbformat": 4,
 "nbformat_minor": 4
}
