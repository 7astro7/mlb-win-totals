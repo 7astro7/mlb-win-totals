{
 "cells": [
  {
   "cell_type": "code",
   "execution_count": 1,
   "metadata": {},
   "outputs": [],
   "source": [
    "import os\n",
    "import pandas as pd\n",
    "import matplotlib.pyplot as plt\n",
    "import numpy as np\n",
    "from broom import Broom\n",
    "# Click Dots below for CSV Imports"
   ]
  },
  {
   "cell_type": "code",
   "execution_count": 2,
   "metadata": {},
   "outputs": [
    {
     "output_type": "execute_result",
     "data": {
      "text/plain": [
       "     Tm  #Bat  BatAge   R/G      G      PA      AB  Adj. Runs      R       H  \\\n",
       "0   ARI  45.0    29.1  4.48   60.0  2238.0  1997.0     725.76  269.0   482.0   \n",
       "1   ATL  48.0    28.2  5.80   60.0  2344.0  2074.0     939.60  348.0   556.0   \n",
       "2   BAL  45.0    26.3  4.57   60.0  2242.0  2026.0     740.34  274.0   523.0   \n",
       "3   BOS  47.0    27.0  4.87   60.0  2304.0  2083.0     788.94  292.0   552.0   \n",
       "4   CHC  47.0    27.9  4.42   60.0  2214.0  1918.0     716.04  265.0   422.0   \n",
       "..  ...   ...     ...   ...    ...     ...     ...        ...    ...     ...   \n",
       "25  STL  43.0    28.8  4.72  162.0  6167.0  5449.0        NaN  764.0  1336.0   \n",
       "26  TBR  57.0    27.2  4.75  162.0  6285.0  5628.0        NaN  769.0  1427.0   \n",
       "27  TEX  53.0    28.8  5.00  162.0  6204.0  5540.0        NaN  810.0  1374.0   \n",
       "28  TOR  61.0    25.9  4.48  162.0  6091.0  5493.0        NaN  726.0  1299.0   \n",
       "29  WSN  50.0    28.8  5.39  162.0  6267.0  5512.0        NaN  873.0  1460.0   \n",
       "\n",
       "    ...     FIP   WHIP     H9   HR9  BB9  SO9  SO/W    LOB.1  Unnamed: 65  \\\n",
       "0   ...   96.00  4.990  1.430   8.8  1.6  4.1  9.10     2.23        429.0   \n",
       "1   ...  110.00  4.420  1.362   8.5  1.2  3.8  8.70     2.30        415.0   \n",
       "2   ...  102.00  4.600  1.313   8.5  1.4  3.3  8.50     2.54        396.0   \n",
       "3   ...   86.00  5.190  1.601  10.1  1.7  4.3  9.20     2.13        466.0   \n",
       "4   ...  109.00  4.180  1.221   7.8  1.3  3.2  9.10     2.87        358.0   \n",
       "..  ...     ...    ...    ...   ...  ...  ...   ...      ...          ...   \n",
       "25  ...    4.27  1.267  8.000   1.2  3.4  8.7  2.57  1074.00          NaN   \n",
       "26  ...    3.65  1.171  7.800   1.1  2.8  9.9  3.58  1007.00          NaN   \n",
       "27  ...    4.84  1.459  9.500   1.5  3.6  8.6  2.37  1162.00          NaN   \n",
       "28  ...    4.82  1.426  9.100   1.4  3.8  8.3  2.21  1164.00          NaN   \n",
       "29  ...    4.14  1.290  8.400   1.3  3.2  9.4  2.92      NaN          NaN   \n",
       "\n",
       "      #P  \n",
       "0    NaN  \n",
       "1    NaN  \n",
       "2    NaN  \n",
       "3    NaN  \n",
       "4    NaN  \n",
       "..   ...  \n",
       "25  23.0  \n",
       "26  33.0  \n",
       "27  36.0  \n",
       "28  39.0  \n",
       "29  31.0  \n",
       "\n",
       "[4021 rows x 67 columns]"
      ],
      "text/html": "<div>\n<style scoped>\n    .dataframe tbody tr th:only-of-type {\n        vertical-align: middle;\n    }\n\n    .dataframe tbody tr th {\n        vertical-align: top;\n    }\n\n    .dataframe thead th {\n        text-align: right;\n    }\n</style>\n<table border=\"1\" class=\"dataframe\">\n  <thead>\n    <tr style=\"text-align: right;\">\n      <th></th>\n      <th>Tm</th>\n      <th>#Bat</th>\n      <th>BatAge</th>\n      <th>R/G</th>\n      <th>G</th>\n      <th>PA</th>\n      <th>AB</th>\n      <th>Adj. Runs</th>\n      <th>R</th>\n      <th>H</th>\n      <th>...</th>\n      <th>FIP</th>\n      <th>WHIP</th>\n      <th>H9</th>\n      <th>HR9</th>\n      <th>BB9</th>\n      <th>SO9</th>\n      <th>SO/W</th>\n      <th>LOB.1</th>\n      <th>Unnamed: 65</th>\n      <th>#P</th>\n    </tr>\n  </thead>\n  <tbody>\n    <tr>\n      <th>0</th>\n      <td>ARI</td>\n      <td>45.0</td>\n      <td>29.1</td>\n      <td>4.48</td>\n      <td>60.0</td>\n      <td>2238.0</td>\n      <td>1997.0</td>\n      <td>725.76</td>\n      <td>269.0</td>\n      <td>482.0</td>\n      <td>...</td>\n      <td>96.00</td>\n      <td>4.990</td>\n      <td>1.430</td>\n      <td>8.8</td>\n      <td>1.6</td>\n      <td>4.1</td>\n      <td>9.10</td>\n      <td>2.23</td>\n      <td>429.0</td>\n      <td>NaN</td>\n    </tr>\n    <tr>\n      <th>1</th>\n      <td>ATL</td>\n      <td>48.0</td>\n      <td>28.2</td>\n      <td>5.80</td>\n      <td>60.0</td>\n      <td>2344.0</td>\n      <td>2074.0</td>\n      <td>939.60</td>\n      <td>348.0</td>\n      <td>556.0</td>\n      <td>...</td>\n      <td>110.00</td>\n      <td>4.420</td>\n      <td>1.362</td>\n      <td>8.5</td>\n      <td>1.2</td>\n      <td>3.8</td>\n      <td>8.70</td>\n      <td>2.30</td>\n      <td>415.0</td>\n      <td>NaN</td>\n    </tr>\n    <tr>\n      <th>2</th>\n      <td>BAL</td>\n      <td>45.0</td>\n      <td>26.3</td>\n      <td>4.57</td>\n      <td>60.0</td>\n      <td>2242.0</td>\n      <td>2026.0</td>\n      <td>740.34</td>\n      <td>274.0</td>\n      <td>523.0</td>\n      <td>...</td>\n      <td>102.00</td>\n      <td>4.600</td>\n      <td>1.313</td>\n      <td>8.5</td>\n      <td>1.4</td>\n      <td>3.3</td>\n      <td>8.50</td>\n      <td>2.54</td>\n      <td>396.0</td>\n      <td>NaN</td>\n    </tr>\n    <tr>\n      <th>3</th>\n      <td>BOS</td>\n      <td>47.0</td>\n      <td>27.0</td>\n      <td>4.87</td>\n      <td>60.0</td>\n      <td>2304.0</td>\n      <td>2083.0</td>\n      <td>788.94</td>\n      <td>292.0</td>\n      <td>552.0</td>\n      <td>...</td>\n      <td>86.00</td>\n      <td>5.190</td>\n      <td>1.601</td>\n      <td>10.1</td>\n      <td>1.7</td>\n      <td>4.3</td>\n      <td>9.20</td>\n      <td>2.13</td>\n      <td>466.0</td>\n      <td>NaN</td>\n    </tr>\n    <tr>\n      <th>4</th>\n      <td>CHC</td>\n      <td>47.0</td>\n      <td>27.9</td>\n      <td>4.42</td>\n      <td>60.0</td>\n      <td>2214.0</td>\n      <td>1918.0</td>\n      <td>716.04</td>\n      <td>265.0</td>\n      <td>422.0</td>\n      <td>...</td>\n      <td>109.00</td>\n      <td>4.180</td>\n      <td>1.221</td>\n      <td>7.8</td>\n      <td>1.3</td>\n      <td>3.2</td>\n      <td>9.10</td>\n      <td>2.87</td>\n      <td>358.0</td>\n      <td>NaN</td>\n    </tr>\n    <tr>\n      <th>...</th>\n      <td>...</td>\n      <td>...</td>\n      <td>...</td>\n      <td>...</td>\n      <td>...</td>\n      <td>...</td>\n      <td>...</td>\n      <td>...</td>\n      <td>...</td>\n      <td>...</td>\n      <td>...</td>\n      <td>...</td>\n      <td>...</td>\n      <td>...</td>\n      <td>...</td>\n      <td>...</td>\n      <td>...</td>\n      <td>...</td>\n      <td>...</td>\n      <td>...</td>\n      <td>...</td>\n    </tr>\n    <tr>\n      <th>25</th>\n      <td>STL</td>\n      <td>43.0</td>\n      <td>28.8</td>\n      <td>4.72</td>\n      <td>162.0</td>\n      <td>6167.0</td>\n      <td>5449.0</td>\n      <td>NaN</td>\n      <td>764.0</td>\n      <td>1336.0</td>\n      <td>...</td>\n      <td>4.27</td>\n      <td>1.267</td>\n      <td>8.000</td>\n      <td>1.2</td>\n      <td>3.4</td>\n      <td>8.7</td>\n      <td>2.57</td>\n      <td>1074.00</td>\n      <td>NaN</td>\n      <td>23.0</td>\n    </tr>\n    <tr>\n      <th>26</th>\n      <td>TBR</td>\n      <td>57.0</td>\n      <td>27.2</td>\n      <td>4.75</td>\n      <td>162.0</td>\n      <td>6285.0</td>\n      <td>5628.0</td>\n      <td>NaN</td>\n      <td>769.0</td>\n      <td>1427.0</td>\n      <td>...</td>\n      <td>3.65</td>\n      <td>1.171</td>\n      <td>7.800</td>\n      <td>1.1</td>\n      <td>2.8</td>\n      <td>9.9</td>\n      <td>3.58</td>\n      <td>1007.00</td>\n      <td>NaN</td>\n      <td>33.0</td>\n    </tr>\n    <tr>\n      <th>27</th>\n      <td>TEX</td>\n      <td>53.0</td>\n      <td>28.8</td>\n      <td>5.00</td>\n      <td>162.0</td>\n      <td>6204.0</td>\n      <td>5540.0</td>\n      <td>NaN</td>\n      <td>810.0</td>\n      <td>1374.0</td>\n      <td>...</td>\n      <td>4.84</td>\n      <td>1.459</td>\n      <td>9.500</td>\n      <td>1.5</td>\n      <td>3.6</td>\n      <td>8.6</td>\n      <td>2.37</td>\n      <td>1162.00</td>\n      <td>NaN</td>\n      <td>36.0</td>\n    </tr>\n    <tr>\n      <th>28</th>\n      <td>TOR</td>\n      <td>61.0</td>\n      <td>25.9</td>\n      <td>4.48</td>\n      <td>162.0</td>\n      <td>6091.0</td>\n      <td>5493.0</td>\n      <td>NaN</td>\n      <td>726.0</td>\n      <td>1299.0</td>\n      <td>...</td>\n      <td>4.82</td>\n      <td>1.426</td>\n      <td>9.100</td>\n      <td>1.4</td>\n      <td>3.8</td>\n      <td>8.3</td>\n      <td>2.21</td>\n      <td>1164.00</td>\n      <td>NaN</td>\n      <td>39.0</td>\n    </tr>\n    <tr>\n      <th>29</th>\n      <td>WSN</td>\n      <td>50.0</td>\n      <td>28.8</td>\n      <td>5.39</td>\n      <td>162.0</td>\n      <td>6267.0</td>\n      <td>5512.0</td>\n      <td>NaN</td>\n      <td>873.0</td>\n      <td>1460.0</td>\n      <td>...</td>\n      <td>4.14</td>\n      <td>1.290</td>\n      <td>8.400</td>\n      <td>1.3</td>\n      <td>3.2</td>\n      <td>9.4</td>\n      <td>2.92</td>\n      <td>NaN</td>\n      <td>NaN</td>\n      <td>31.0</td>\n    </tr>\n  </tbody>\n</table>\n<p>4021 rows × 67 columns</p>\n</div>"
     },
     "metadata": {},
     "execution_count": 2
    }
   ],
   "source": [
    "data = Broom(csv_directory = 'resources').merge_csvs()\n",
    "data"
   ]
  },
  {
   "cell_type": "code",
   "execution_count": 9,
   "metadata": {
    "jupyter": {
     "source_hidden": true
    }
   },
   "outputs": [],
   "source": [
    "# I do not understand why there are NaaN values. \n",
    "# Still figuring out this whole database building thing. \n",
    "\n",
    "db_16 = raw_data_16.dropna()\n",
    "\n",
    "db_17 = raw_data_17.dropna()\n",
    "\n",
    "db_18 = raw_data_18.dropna()\n",
    "\n",
    "db_19 = raw_data_19.dropna()\n",
    "\n",
    "db_20 = raw_data_20.dropna()\n"
   ]
  },
  {
   "cell_type": "code",
   "execution_count": 6,
   "metadata": {},
   "outputs": [],
   "source": [
    "# We Only Need Runs Scored & Runs Allowed\n",
    "# Recall that 2020 was a shortened season -- I went ahead and created an \"Assumed Variable\" \n",
    "# based upon the average runs scored per game vs. 162 games. \n",
    "# I understand that this is a significant limitation to this dataset. \n",
    "# Suggestions on how to more accurately forecast this statistic are welcome."
   ]
  },
  {
   "cell_type": "code",
   "execution_count": 23,
   "metadata": {},
   "outputs": [
    {
     "data": {
      "text/plain": [
       "Index(['Tm', '#Bat', 'BatAge', 'R/G', 'G', 'PA', 'AB', 'R', 'H', '2B', '3B',\n",
       "       'HR', 'RBI', 'SB', 'CS', 'BB', 'SO', 'BA', 'OBP', 'SLG', 'OPS', 'OPS+',\n",
       "       'TB', 'GDP', 'HBP', 'SH', 'SF', 'IBB', 'LOB', '#P', 'PAge', 'RA/G', 'W',\n",
       "       'L', 'W-L%', 'ERA', 'G.1', 'GS', 'GF', 'CG', 'tSho', 'cSho', 'SV', 'IP',\n",
       "       'H.1', 'R.1', 'ER', 'HR.1', 'BB.1', 'IBB.1', 'SO.1', 'HBP.1', 'BK',\n",
       "       'WP', 'BF', 'ERA+', 'FIP', 'WHIP', 'H9', 'HR9', 'BB9', 'SO9', 'SO/W',\n",
       "       'LOB.1'],\n",
       "      dtype='object')"
      ]
     },
     "execution_count": 23,
     "metadata": {},
     "output_type": "execute_result"
    }
   ],
   "source": [
    "# Creating New DB \n",
    "\n",
    "db_19.columns"
   ]
  },
  {
   "cell_type": "code",
   "execution_count": 25,
   "metadata": {},
   "outputs": [],
   "source": [
    "rs_20 = db_20['Adj. Runs']\n",
    "ra_20 = db_20['Adj. Runs.1']\n",
    "teams = db_20['Tm']\n",
    "\n",
    "rs_19 = db_19['R']\n",
    "ra_19 = db_19['R.1']\n",
    "\n",
    "rs_18 = db_18['R']\n",
    "ra_18 = db_18['R.1']\n",
    "\n",
    "rs_17 = db_17['R']\n",
    "ra_17 = db_17['R.1']\n",
    "\n",
    "rs_16 = db_16['R']\n",
    "ra_16 = db_16['R.1']"
   ]
  },
  {
   "cell_type": "code",
   "execution_count": 31,
   "metadata": {},
   "outputs": [
    {
     "data": {
      "text/html": [
       "<div>\n",
       "<style scoped>\n",
       "    .dataframe tbody tr th:only-of-type {\n",
       "        vertical-align: middle;\n",
       "    }\n",
       "\n",
       "    .dataframe tbody tr th {\n",
       "        vertical-align: top;\n",
       "    }\n",
       "\n",
       "    .dataframe thead th {\n",
       "        text-align: right;\n",
       "    }\n",
       "</style>\n",
       "<table border=\"1\" class=\"dataframe\">\n",
       "  <thead>\n",
       "    <tr style=\"text-align: right;\">\n",
       "      <th></th>\n",
       "      <th>Teams</th>\n",
       "      <th>Runs Scored '20</th>\n",
       "      <th>Runs Allowed '20</th>\n",
       "      <th>Runs Scored '19</th>\n",
       "      <th>Runs Allowed '19</th>\n",
       "      <th>Runs Scored '18</th>\n",
       "      <th>Runs Allowed '18</th>\n",
       "      <th>Runs Scored '17</th>\n",
       "      <th>Runs Allowed '17</th>\n",
       "      <th>Runs Allowed '16</th>\n",
       "      <th>Runs Scored '16</th>\n",
       "    </tr>\n",
       "  </thead>\n",
       "  <tbody>\n",
       "    <tr>\n",
       "      <th>0</th>\n",
       "      <td>ARI</td>\n",
       "      <td>725.76</td>\n",
       "      <td>797.04</td>\n",
       "      <td>813.0</td>\n",
       "      <td>743.0</td>\n",
       "      <td>693.0</td>\n",
       "      <td>644.0</td>\n",
       "      <td>812.0</td>\n",
       "      <td>659.0</td>\n",
       "      <td>890.0</td>\n",
       "      <td>752.0</td>\n",
       "    </tr>\n",
       "    <tr>\n",
       "      <th>1</th>\n",
       "      <td>ATL</td>\n",
       "      <td>939.60</td>\n",
       "      <td>777.60</td>\n",
       "      <td>855.0</td>\n",
       "      <td>743.0</td>\n",
       "      <td>759.0</td>\n",
       "      <td>657.0</td>\n",
       "      <td>732.0</td>\n",
       "      <td>821.0</td>\n",
       "      <td>779.0</td>\n",
       "      <td>649.0</td>\n",
       "    </tr>\n",
       "    <tr>\n",
       "      <th>2</th>\n",
       "      <td>BAL</td>\n",
       "      <td>740.34</td>\n",
       "      <td>793.80</td>\n",
       "      <td>729.0</td>\n",
       "      <td>981.0</td>\n",
       "      <td>622.0</td>\n",
       "      <td>892.0</td>\n",
       "      <td>743.0</td>\n",
       "      <td>841.0</td>\n",
       "      <td>715.0</td>\n",
       "      <td>744.0</td>\n",
       "    </tr>\n",
       "    <tr>\n",
       "      <th>3</th>\n",
       "      <td>BOS</td>\n",
       "      <td>788.94</td>\n",
       "      <td>947.70</td>\n",
       "      <td>901.0</td>\n",
       "      <td>828.0</td>\n",
       "      <td>876.0</td>\n",
       "      <td>647.0</td>\n",
       "      <td>785.0</td>\n",
       "      <td>668.0</td>\n",
       "      <td>694.0</td>\n",
       "      <td>878.0</td>\n",
       "    </tr>\n",
       "    <tr>\n",
       "      <th>4</th>\n",
       "      <td>CHC</td>\n",
       "      <td>716.04</td>\n",
       "      <td>648.00</td>\n",
       "      <td>814.0</td>\n",
       "      <td>717.0</td>\n",
       "      <td>761.0</td>\n",
       "      <td>645.0</td>\n",
       "      <td>822.0</td>\n",
       "      <td>695.0</td>\n",
       "      <td>556.0</td>\n",
       "      <td>808.0</td>\n",
       "    </tr>\n",
       "  </tbody>\n",
       "</table>\n",
       "</div>"
      ],
      "text/plain": [
       "  Teams  Runs Scored '20  Runs Allowed '20  Runs Scored '19  Runs Allowed '19  \\\n",
       "0   ARI           725.76            797.04            813.0             743.0   \n",
       "1   ATL           939.60            777.60            855.0             743.0   \n",
       "2   BAL           740.34            793.80            729.0             981.0   \n",
       "3   BOS           788.94            947.70            901.0             828.0   \n",
       "4   CHC           716.04            648.00            814.0             717.0   \n",
       "\n",
       "   Runs Scored '18  Runs Allowed '18  Runs Scored '17  Runs Allowed '17  \\\n",
       "0            693.0             644.0            812.0             659.0   \n",
       "1            759.0             657.0            732.0             821.0   \n",
       "2            622.0             892.0            743.0             841.0   \n",
       "3            876.0             647.0            785.0             668.0   \n",
       "4            761.0             645.0            822.0             695.0   \n",
       "\n",
       "   Runs Allowed '16  Runs Scored '16  \n",
       "0             890.0            752.0  \n",
       "1             779.0            649.0  \n",
       "2             715.0            744.0  \n",
       "3             694.0            878.0  \n",
       "4             556.0            808.0  "
      ]
     },
     "execution_count": 31,
     "metadata": {},
     "output_type": "execute_result"
    }
   ],
   "source": [
    "df = pd.DataFrame({\n",
    "    \n",
    "    \"Teams\": teams,\n",
    "    \"Runs Scored '20\": rs_20,\n",
    "    \"Runs Allowed '20\": ra_20,\n",
    "    \"Runs Scored '19\": rs_19,\n",
    "    \"Runs Allowed '19\": ra_19,\n",
    "    \"Runs Scored '18\": rs_18,\n",
    "    \"Runs Allowed '18\": ra_18,\n",
    "    \"Runs Scored '17\": rs_17,\n",
    "    \"Runs Allowed '17\": ra_17,\n",
    "    \"Runs Allowed '16\": ra_16,\n",
    "    \"Runs Scored '16\": rs_16\n",
    "    \n",
    "})\n",
    "\n",
    "df.head()"
   ]
  },
  {
   "cell_type": "code",
   "execution_count": 64,
   "metadata": {},
   "outputs": [
    {
     "data": {
      "text/plain": [
       "<matplotlib.axes._subplots.AxesSubplot at 0x7f824db7e7f0>"
      ]
     },
     "execution_count": 64,
     "metadata": {},
     "output_type": "execute_result"
    },
    {
     "data": {
      "image/png": "[encoded data removed]",
      "text/plain": [
       "<Figure size 432x288 with 1 Axes>"
      ]
     },
     "metadata": {
      "needs_background": "light"
     },
     "output_type": "display_data"
    }
   ],
   "source": [
    "# Calculations\n",
    "\n",
    "# Bill James' Pythag Win % is derived from (Runs Scored ^ 2 / [ Runs Scored^2 * Runs Allowed^2])\n",
    "\n",
    "\n",
    "\n"
   ]
  },
  {
   "cell_type": "code",
   "execution_count": null,
   "metadata": {},
   "outputs": [],
   "source": []
  }
 ],
 "metadata": {
  "kernelspec": {
   "display_name": "Python 3.8.2 64-bit ('.venv')",
   "language": "python",
   "name": "python38264bitvenveb2b51fb7967487fb9cd30505f2438f6"
  },
  "language_info": {
   "codemirror_mode": {
    "name": "ipython",
    "version": 3
   },
   "file_extension": ".py",
   "mimetype": "text/x-python",
   "name": "python",
   "nbconvert_exporter": "python",
   "pygments_lexer": "ipython3",
   "version": "3.8.2-final"
  }
 },
 "nbformat": 4,
 "nbformat_minor": 4
}